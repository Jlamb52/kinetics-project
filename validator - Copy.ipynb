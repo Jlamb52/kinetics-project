{
 "cells": [
  {
   "cell_type": "markdown",
   "metadata": {},
   "source": [
    "# Kinetics Project Validation Tool\n",
    "## This notebook can be used to validate a model against experimental data\n",
    "The following is the isothermal reaction under investigation:\n",
    "$\\require{mhchem}$\n",
    "$$\\ce{A ->[C] D + U}$$\n",
    "\n",
    "where A is the starting reagent, C is the catalyst, D is the desired product, and U is the undesired product.\n",
    "We can control the starting concentration of A, the concentration of C, and the reaction temperature."
   ]
  },
  {
   "cell_type": "code",
   "execution_count": 4,
   "metadata": {
    "collapsed": true
   },
   "outputs": [],
   "source": [
    "import numpy as np\n",
    "import matplotlib.pyplot as plt\n",
    "import pandas as pd\n",
    "from scipy.integrate import odeint\n",
    "%matplotlib inline"
   ]
  },
  {
   "cell_type": "markdown",
   "metadata": {},
   "source": [
    "## Use the following cell to import tab-separated experiment data"
   ]
  },
  {
   "cell_type": "code",
   "execution_count": 6,
   "metadata": {
    "collapsed": false
   },
   "outputs": [],
   "source": [
    "filename = \"data/exp88.txt\"\n",
    "exp = pd.read_csv(filename, sep=\"\\t|[ ]{1,}\", engine='python', skiprows=2, names=['Time', 'A', 'D', 'U'])\n",
    "init = pd.read_csv(filename, sep=\"\\t|[ ]{1,}\", engine='python', skiprows=1, names=['A', 'D', 'U', 'C', 'T'], nrows=1, usecols=range(2, 7))\n",
    "t_final = exp.Time.values[-1]\n",
    "t_prefinal = exp.Time.values[-2]"
   ]
  },
  {
   "cell_type": "markdown",
   "metadata": {},
   "source": [
    "## We propose the following mechanism\n",
    "$\\require{mhchem}$\n",
    "$$\\ce{\\alpha_1 A + \\gamma C->[k_1] \\beta B + \\gamma C}$$\n",
    "\n",
    "$$\\ce{\\alpha_2 A ->[k_2] \\epsilon_1 E}$$\n",
    "\n",
    "$$\\ce{\\epsilon_2 E <=>[{k_3}][{k_{-3}}] \\upsilon U}$$\n",
    "\n",
    "$$\\ce{\\beta B <=>[{k_4}][{k_{-4}}] \\delta D}$$\n",
    "\n",
    "\n",
    "A is the starting reagent, C is the catalyst, D is the desired product, and U is the undesired product.\n",
    "\n",
    "The following rate laws will be tested.\n",
    "\n",
    "$$-r_A = k_1 C_A^{\\alpha_1} C_C^{\\gamma} + k_2 C_A^{\\alpha_2} + k_4 C_A^{\\alpha_3}$$\n",
    "\n",
    "$$r_U = k_2 C_A^{\\alpha_2} + k_4 C_A^{\\alpha_3}$$\n",
    "\n",
    "$$r_B = k_1 C_A^{\\alpha_1} C_C^{\\gamma} + k_{-3} C_D^{\\delta} - k_3 C_B^{\\beta}$$\n",
    "\n",
    "$$r_D = k_3 C_B^\\beta - k_{-3} C_D^\\delta$$\n",
    "\n",
    "Applying the pseudo steady-state hypothesis on the intermediate species B and adding the last two equations, we obtain the following relation.\n",
    "\n",
    "$$r_D = k_1 C_A^{\\alpha_1} C_C^{\\gamma}.$$\n",
    "\n",
    "Therefore,\n",
    "\n",
    "$$-r_A = r_D + r_U$$\n",
    "\n",
    "## Use the cell below to enter a rate law. Define all necessary constants"
   ]
  },
  {
   "cell_type": "code",
   "execution_count": 7,
   "metadata": {
    "collapsed": true
   },
   "outputs": [],
   "source": [
    "def concentrations(cA0, cC0, T, time, params):\n",
    "    \"\"\"\"\n",
    "    This function calculates the concentrations of the reacting species using a proposed rate law\n",
    "    cA (mol/L) is the initial concentration of reactant A\n",
    "    cC (mol/L) is the initial catalyst concentration\n",
    "    T (K) is the temperature\n",
    "    time (s) is the elapsed reaction time\n",
    "    Return values:\n",
    "    time (s) array of times at which concentrations were calculated\n",
    "    cA (mol/L) array of concentrations of A during the time interval\n",
    "    cD (mol/L) array of concentrations of the desired product D during the time interval\n",
    "    cU (mol/L) array of concentrations of the undesired product U during the time interval\n",
    "    \"\"\"\n",
    "    \n",
    "    try:\n",
    "        alpha, beta1, beta2, beta3, gamma, k1, k_1, k2, k3 = params\n",
    "    except:\n",
    "        print(\"Params should contain at least 9 parameters!\")\n",
    "        return -1, -1, -1, -1,\n",
    "    else:\n",
    "        \n",
    "        def dadt(cA, cB):\n",
    "            return k_1 * cB**beta1 - k1 * cA**alpha\n",
    "            \n",
    "        def dudt(cB):\n",
    "            return k3 * cB**beta3\n",
    "\n",
    "        def dddt(cB, cC):\n",
    "            return k2 * cB**beta2 * cC**gamma\n",
    "                \n",
    "        def rates(parms, time):\n",
    "            \"\"\"\n",
    "            Returns the RHS of the system of ODEs\n",
    "            \"\"\"\n",
    "            C_A, C_B, C_D, C_U = parms\n",
    "            rateD = dddt(C_B, cC0)\n",
    "            rateU = dudt(C_B)\n",
    "            rateA = dadt(C_A, C_B)\n",
    "            rateB = -1 * (rateA + rateD + rateU)\n",
    "            return (rateA, rateB, rateD, rateU)\n",
    "        \n",
    "        times = np.linspace(0, time, 100)\n",
    "        \n",
    "        result = odeint(rates, (cA0, 0., 0., 0.), times)\n",
    "        \n",
    "        cA = result[:,0]\n",
    "        cB = result[:,1]\n",
    "        cD = result[:,2]\n",
    "        cU = result[:,3]\n",
    "        \n",
    "    return times, cA, cD, cU, cB"
   ]
  },
  {
   "cell_type": "markdown",
   "metadata": {},
   "source": [
    "## Integrate\n",
    "Use the cell below to carry out the integration"
   ]
  },
  {
   "cell_type": "code",
   "execution_count": 8,
   "metadata": {
    "collapsed": false
   },
   "outputs": [],
   "source": [
    "alpha = 2. # 3\n",
    "beta1 = 2. # 2\n",
    "beta2 = 1. # 2\n",
    "beta3 = 2. # 2\n",
    "gamma = 1. # 1\n",
    "k1 = 4. # 2.2\n",
    "k_1 = 1.5 # 1.6\n",
    "k2 = 1. # 1\n",
    "k3 = .043 # 0.38\n",
    "times, A, D, U, B = concentrations(init.A, init.C, init.T, t_prefinal,\n",
    "                                (alpha, beta1, beta2, beta3, gamma, k1, k_1, k2, k3))"
   ]
  },
  {
   "cell_type": "markdown",
   "metadata": {},
   "source": [
    "## Plot\n",
    "Plot the results of the calculation."
   ]
  },
  {
   "cell_type": "code",
   "execution_count": 9,
   "metadata": {
    "collapsed": false
   },
   "outputs": [
    {
     "data": {
      "text/plain": [
       "[<matplotlib.lines.Line2D at 0xcd25128>,\n",
       " <matplotlib.lines.Line2D at 0xcd251d0>,\n",
       " <matplotlib.lines.Line2D at 0xcd255f8>,\n",
       " <matplotlib.lines.Line2D at 0xcd25978>]"
      ]
     },
     "execution_count": 9,
     "metadata": {},
     "output_type": "execute_result"
    },
    {
     "data": {
      "image/png": "[encoded data removed]",
      "text/plain": [
       "<matplotlib.figure.Figure at 0xc9f65c0>"
      ]
     },
     "metadata": {},
     "output_type": "display_data"
    }
   ],
   "source": [
    "plt.plot(times, A, 'b.',\n",
    "       times, D, 'g.',\n",
    "       times, U, 'r.',\n",
    "       times, B, 'c.')"
   ]
  },
  {
   "cell_type": "markdown",
   "metadata": {},
   "source": [
    "## Compare\n",
    "Compare to the experimental results below."
   ]
  },
  {
   "cell_type": "code",
   "execution_count": 10,
   "metadata": {
    "collapsed": false
   },
   "outputs": [
    {
     "data": {
      "text/plain": [
       "[<matplotlib.lines.Line2D at 0xcfb9160>,\n",
       " <matplotlib.lines.Line2D at 0xcfb9208>,\n",
       " <matplotlib.lines.Line2D at 0xcfb95f8>]"
      ]
     },
     "execution_count": 10,
     "metadata": {},
     "output_type": "execute_result"
    },
    {
     "data": {
      "image/png": "[encoded data removed]",
      "text/plain": [
       "<matplotlib.figure.Figure at 0xca06b00>"
      ]
     },
     "metadata": {},
     "output_type": "display_data"
    }
   ],
   "source": [
    "plt.plot(exp.Time.values[:-1], exp.A.values[:-1], 'b.',\n",
    "       exp.Time.values[:-1], exp.D.values[:-1], 'g.',\n",
    "       exp.Time.values[:-1], exp.U.values[:-1], 'r.')"
   ]
  },
  {
   "cell_type": "code",
   "execution_count": null,
   "metadata": {
    "collapsed": true
   },
   "outputs": [],
   "source": []
  },
  {
   "cell_type": "code",
   "execution_count": 11,
   "metadata": {
    "collapsed": false
   },
   "outputs": [
    {
     "data": {
      "text/plain": [
       "[<matplotlib.lines.Line2D at 0xd1e5128>,\n",
       " <matplotlib.lines.Line2D at 0xd1e51d0>,\n",
       " <matplotlib.lines.Line2D at 0xd1e55c0>,\n",
       " <matplotlib.lines.Line2D at 0xd1e5940>,\n",
       " <matplotlib.lines.Line2D at 0xd1e5cc0>,\n",
       " <matplotlib.lines.Line2D at 0xd1fb080>,\n",
       " <matplotlib.lines.Line2D at 0xd1fb400>]"
      ]
     },
     "execution_count": 11,
     "metadata": {},
     "output_type": "execute_result"
    },
    {
     "data": {
      "image/png": "[encoded data removed]",
      "text/plain": [
       "<matplotlib.figure.Figure at 0xc647048>"
      ]
     },
     "metadata": {},
     "output_type": "display_data"
    }
   ],
   "source": [
    "# Plot experimental and calculated results on the same chart\n",
    "plt.plot(times, A, 'b.',\n",
    "       times, D, 'g.',\n",
    "       times, U, 'r.',\n",
    "         times, B, 'k.',\n",
    "       exp.Time.values[:-1], exp.A.values[:-1], 'c.',\n",
    "       exp.Time.values[:-1], exp.D.values[:-1], 'y.',\n",
    "       exp.Time.values[:-1], exp.U.values[:-1], 'm.')"
   ]
  },
  {
   "cell_type": "markdown",
   "metadata": {
    "collapsed": true
   },
   "source": [
    "## Parameters of interest"
   ]
  },
  {
   "cell_type": "code",
   "execution_count": 12,
   "metadata": {
    "collapsed": false
   },
   "outputs": [
    {
     "data": {
      "text/plain": [
       "[<matplotlib.lines.Line2D at 0xd410080>,\n",
       " <matplotlib.lines.Line2D at 0xd410128>]"
      ]
     },
     "execution_count": 12,
     "metadata": {},
     "output_type": "execute_result"
    },
    {
     "data": {
      "image/png": "[encoded data removed]",
      "text/plain": [
       "<matplotlib.figure.Figure at 0xcbb8518>"
      ]
     },
     "metadata": {},
     "output_type": "display_data"
    }
   ],
   "source": [
    "# 3-point differentiation of experimental [A] and [U]\n",
    "exp_a = exp.A.values # ignore the last long-time value\n",
    "exp_u = exp.U.values # ignore the last long-time value\n",
    "exp_t = exp.Time.values # ignore the last long-time value\n",
    "delta_t = exp_t[1] - exp_t[0]\n",
    "exp_ra = (np.diff(exp_a[:-1]) + np.diff(exp_a[1:])) / (2 * delta_t)\n",
    "exp_ru = (np.diff(exp_u[:-1]) + np.diff(exp_u[1:])) / (2 * delta_t)\n",
    "\n",
    "plt.plot(exp_t[1:-1], exp_ru, 'm.', exp_t[1:-1], exp_ra, 'c.')"
   ]
  },
  {
   "cell_type": "code",
   "execution_count": 13,
   "metadata": {
    "collapsed": false
   },
   "outputs": [
    {
     "data": {
      "text/plain": [
       "[<matplotlib.lines.Line2D at 0xded23c8>]"
      ]
     },
     "execution_count": 13,
     "metadata": {},
     "output_type": "execute_result"
    },
    {
     "data": {
      "image/png": "[encoded data removed]",
      "text/plain": [
       "<matplotlib.figure.Figure at 0xcf278d0>"
      ]
     },
     "metadata": {},
     "output_type": "display_data"
    }
   ],
   "source": [
    "plt.plot(exp_u[1:-1], exp_ru, 'm.')"
   ]
  },
  {
   "cell_type": "code",
   "execution_count": 14,
   "metadata": {
    "collapsed": false
   },
   "outputs": [
    {
     "data": {
      "text/plain": [
       "[<matplotlib.lines.Line2D at 0xe13c0f0>]"
      ]
     },
     "execution_count": 14,
     "metadata": {},
     "output_type": "execute_result"
    },
    {
     "data": {
      "image/png": "[encoded data removed]",
      "text/plain": [
       "<matplotlib.figure.Figure at 0xdef7b70>"
      ]
     },
     "metadata": {},
     "output_type": "display_data"
    }
   ],
   "source": [
    "plt.plot(exp_a[1:-1], exp_ra, 'b.')"
   ]
  },
  {
   "cell_type": "code",
   "execution_count": 11,
   "metadata": {
    "collapsed": true
   },
   "outputs": [],
   "source": [
    "# use a rough parameter optimization to find k2 at the experiment temperature\n",
    "# at about 125 seconds U should equal A\n",
    "#from scipy.optimize import fsolve\n",
    "def objective(k3_trial):\n",
    "    t, a, d, u, b = concentrations(init.A, init.C, init.T, t_prefinal, (alpha, beta1, beta2, beta3, gamma, k1, k_1, k2, k3_trial))\n",
    "    diff = a[15] - u[15]\n",
    "    return diff"
   ]
  },
  {
   "cell_type": "code",
   "execution_count": 15,
   "metadata": {
    "collapsed": false
   },
   "outputs": [
    {
     "ename": "ImportError",
     "evalue": "No module named cu",
     "output_type": "error",
     "traceback": [
      "\u001b[1;31m---------------------------------------------------------------------------\u001b[0m",
      "\u001b[1;31mImportError\u001b[0m                               Traceback (most recent call last)",
      "\u001b[1;32m<ipython-input-15-4f5bd2fec072>\u001b[0m in \u001b[0;36m<module>\u001b[1;34m()\u001b[0m\n\u001b[0;32m      1\u001b[0m \u001b[1;32mimport\u001b[0m \u001b[0mscipy\u001b[0m\u001b[1;33m.\u001b[0m\u001b[0moptimize\u001b[0m \u001b[1;32mas\u001b[0m \u001b[0moptimize\u001b[0m\u001b[1;33m\u001b[0m\u001b[0m\n\u001b[1;32m----> 2\u001b[1;33m \u001b[1;32mimport\u001b[0m \u001b[0mscipy\u001b[0m\u001b[1;33m.\u001b[0m\u001b[0mcu\u001b[0m\u001b[1;33m\u001b[0m\u001b[0m\n\u001b[0m",
      "\u001b[1;31mImportError\u001b[0m: No module named cu"
     ]
    }
   ],
   "source": [
    "import scipy.optimize as optimize\n",
    "import scipy.cu"
   ]
  },
  {
   "cell_type": "code",
   "execution_count": null,
   "metadata": {
    "collapsed": false
   },
   "outputs": [],
   "source": [
    "initial_guess = [2.364]\n",
    "result = optimize.minimize(objective, initial_guess)\n",
    "if result.success:\n",
    "    fitted_params = result.x\n",
    "    print(fitted_params)\n",
    "else:\n",
    "    raise ValueError(result.message)"
   ]
  },
  {
   "cell_type": "code",
   "execution_count": null,
   "metadata": {
    "collapsed": false
   },
   "outputs": [],
   "source": [
    "guess = 2.364\n",
    "max_loops = 1000000\n",
    "while max_loops:\n",
    "    if abs(objective(guess)) < 0.001:\n",
    "        print(\"Found a value!\")\n",
    "        print(guess)\n",
    "        break\n",
    "    guess-=0.01\n",
    "    max_loops-=1"
   ]
  },
  {
   "cell_type": "code",
   "execution_count": 18,
   "metadata": {
    "collapsed": false
   },
   "outputs": [],
   "source": [
    "import random as rd\n",
    "np.random.seed()\n",
    "rd.seed()\n",
    "import bisect\n",
    "import math"
   ]
  },
  {
   "cell_type": "code",
   "execution_count": 16,
   "metadata": {
    "collapsed": false
   },
   "outputs": [],
   "source": [
    "from numpy import loadtxt\n",
    "\n",
    "exp = pd.read_csv(filename, sep=\"\\t|[ ]{1,}\", engine='python', skiprows=2, names=['t', 'Ca', 'Cd', 'Cu'])"
   ]
  },
  {
   "cell_type": "code",
   "execution_count": 53,
   "metadata": {
    "collapsed": false
   },
   "outputs": [
    {
     "name": "stdout",
     "output_type": "stream",
     "text": [
      "[ 0.     0.136  0.117  0.1    0.088  0.078  0.07   0.064  0.059  0.052\n",
      "  0.049  0.046  0.042  0.038  0.037  0.033  0.032  0.029  0.029  0.028\n",
      " -0.001]\n"
     ]
    }
   ],
   "source": [
    "ca = np.array(exp.Ca)\n",
    "cd = np.array(exp.Cd)\n",
    "cu = np.array(exp.Cu)\n",
    "cb = ca[0] - ca - cd - cu\n",
    "print(cb)\n",
    "delta_t = exp.t[1] - exp.t[0]\n",
    "exp_ra = (np.diff(ca[:-1]) + np.diff(ca[1:])) / (2 * delta_t)\n",
    "exp_ru = (np.diff(cu[:-1]) + np.diff(cu[1:])) / (2 * delta_t)\n",
    "concentrations =np.array([ca[0:19], cb[0:19], cd[0:19], cu[0:19]])"
   ]
  },
  {
   "cell_type": "code",
   "execution_count": 49,
   "metadata": {
    "collapsed": true
   },
   "outputs": [],
   "source": [
    "def rate_A(kf, alpha, kr, beta, ca, cb):\n",
    "    return kf ** ca ** alpha - kr *  cb ** beta\n",
    "def rate_U(k3, cb):\n",
    "    return k3 * cb\n"
   ]
  },
  {
   "cell_type": "code",
   "execution_count": 54,
   "metadata": {
    "collapsed": false
   },
   "outputs": [
    {
     "ename": "ValueError",
     "evalue": "object too deep for desired array",
     "output_type": "error",
     "traceback": [
      "\u001b[1;31m---------------------------------------------------------------------------\u001b[0m",
      "\u001b[1;31mValueError\u001b[0m                                Traceback (most recent call last)",
      "\u001b[1;31mValueError\u001b[0m: object too deep for desired array"
     ]
    },
    {
     "ename": "error",
     "evalue": "Result from function call is not a proper array of floats.",
     "output_type": "error",
     "traceback": [
      "\u001b[1;31m---------------------------------------------------------------------------\u001b[0m",
      "\u001b[1;31merror\u001b[0m                                     Traceback (most recent call last)",
      "\u001b[1;32m<ipython-input-54-64a86b27eebe>\u001b[0m in \u001b[0;36m<module>\u001b[1;34m()\u001b[0m\n\u001b[0;32m      3\u001b[0m \u001b[1;32mimport\u001b[0m \u001b[0mscipy\u001b[0m\u001b[1;33m.\u001b[0m\u001b[0moptimize\u001b[0m\u001b[1;33m\u001b[0m\u001b[0m\n\u001b[0;32m      4\u001b[0m \u001b[1;33m\u001b[0m\u001b[0m\n\u001b[1;32m----> 5\u001b[1;33m \u001b[0mpopt\u001b[0m\u001b[1;33m,\u001b[0m \u001b[0mpcov\u001b[0m \u001b[1;33m=\u001b[0m \u001b[0mscipy\u001b[0m\u001b[1;33m.\u001b[0m\u001b[0moptimize\u001b[0m\u001b[1;33m.\u001b[0m\u001b[0mcurve_fit\u001b[0m\u001b[1;33m(\u001b[0m\u001b[0mrate_U\u001b[0m\u001b[1;33m,\u001b[0m \u001b[0mx_data\u001b[0m\u001b[1;33m,\u001b[0m \u001b[0my_data\u001b[0m\u001b[1;33m)\u001b[0m\u001b[1;33m\u001b[0m\u001b[0m\n\u001b[0m\u001b[0;32m      6\u001b[0m \u001b[1;32mprint\u001b[0m\u001b[1;33m(\u001b[0m\u001b[0mpopt\u001b[0m\u001b[1;33m)\u001b[0m\u001b[1;33m\u001b[0m\u001b[0m\n\u001b[0;32m      7\u001b[0m \u001b[1;32mprint\u001b[0m\u001b[1;33m(\u001b[0m\u001b[0mpcov\u001b[0m\u001b[1;33m)\u001b[0m\u001b[1;33m\u001b[0m\u001b[0m\n",
      "\u001b[1;32mC:\\Anaconda\\lib\\site-packages\\scipy\\optimize\\minpack.pyc\u001b[0m in \u001b[0;36mcurve_fit\u001b[1;34m(f, xdata, ydata, p0, sigma, absolute_sigma, check_finite, bounds, method, **kwargs)\u001b[0m\n\u001b[0;32m    649\u001b[0m         \u001b[1;31m# Remove full_output from kwargs, otherwise we're passing it in twice.\u001b[0m\u001b[1;33m\u001b[0m\u001b[1;33m\u001b[0m\u001b[0m\n\u001b[0;32m    650\u001b[0m         \u001b[0mreturn_full\u001b[0m \u001b[1;33m=\u001b[0m \u001b[0mkwargs\u001b[0m\u001b[1;33m.\u001b[0m\u001b[0mpop\u001b[0m\u001b[1;33m(\u001b[0m\u001b[1;34m'full_output'\u001b[0m\u001b[1;33m,\u001b[0m \u001b[0mFalse\u001b[0m\u001b[1;33m)\u001b[0m\u001b[1;33m\u001b[0m\u001b[0m\n\u001b[1;32m--> 651\u001b[1;33m         \u001b[0mres\u001b[0m \u001b[1;33m=\u001b[0m \u001b[0mleastsq\u001b[0m\u001b[1;33m(\u001b[0m\u001b[0mfunc\u001b[0m\u001b[1;33m,\u001b[0m \u001b[0mp0\u001b[0m\u001b[1;33m,\u001b[0m \u001b[0margs\u001b[0m\u001b[1;33m=\u001b[0m\u001b[0margs\u001b[0m\u001b[1;33m,\u001b[0m \u001b[0mfull_output\u001b[0m\u001b[1;33m=\u001b[0m\u001b[1;36m1\u001b[0m\u001b[1;33m,\u001b[0m \u001b[1;33m**\u001b[0m\u001b[0mkwargs\u001b[0m\u001b[1;33m)\u001b[0m\u001b[1;33m\u001b[0m\u001b[0m\n\u001b[0m\u001b[0;32m    652\u001b[0m         \u001b[0mpopt\u001b[0m\u001b[1;33m,\u001b[0m \u001b[0mpcov\u001b[0m\u001b[1;33m,\u001b[0m \u001b[0minfodict\u001b[0m\u001b[1;33m,\u001b[0m \u001b[0merrmsg\u001b[0m\u001b[1;33m,\u001b[0m \u001b[0mier\u001b[0m \u001b[1;33m=\u001b[0m \u001b[0mres\u001b[0m\u001b[1;33m\u001b[0m\u001b[0m\n\u001b[0;32m    653\u001b[0m         \u001b[0mcost\u001b[0m \u001b[1;33m=\u001b[0m \u001b[0mnp\u001b[0m\u001b[1;33m.\u001b[0m\u001b[0msum\u001b[0m\u001b[1;33m(\u001b[0m\u001b[0minfodict\u001b[0m\u001b[1;33m[\u001b[0m\u001b[1;34m'fvec'\u001b[0m\u001b[1;33m]\u001b[0m \u001b[1;33m**\u001b[0m \u001b[1;36m2\u001b[0m\u001b[1;33m)\u001b[0m\u001b[1;33m\u001b[0m\u001b[0m\n",
      "\u001b[1;32mC:\\Anaconda\\lib\\site-packages\\scipy\\optimize\\minpack.pyc\u001b[0m in \u001b[0;36mleastsq\u001b[1;34m(func, x0, args, Dfun, full_output, col_deriv, ftol, xtol, gtol, maxfev, epsfcn, factor, diag)\u001b[0m\n\u001b[0;32m    385\u001b[0m             \u001b[0mmaxfev\u001b[0m \u001b[1;33m=\u001b[0m \u001b[1;36m200\u001b[0m\u001b[1;33m*\u001b[0m\u001b[1;33m(\u001b[0m\u001b[0mn\u001b[0m \u001b[1;33m+\u001b[0m \u001b[1;36m1\u001b[0m\u001b[1;33m)\u001b[0m\u001b[1;33m\u001b[0m\u001b[0m\n\u001b[0;32m    386\u001b[0m         retval = _minpack._lmdif(func, x0, args, full_output, ftol, xtol,\n\u001b[1;32m--> 387\u001b[1;33m                                  gtol, maxfev, epsfcn, factor, diag)\n\u001b[0m\u001b[0;32m    388\u001b[0m     \u001b[1;32melse\u001b[0m\u001b[1;33m:\u001b[0m\u001b[1;33m\u001b[0m\u001b[0m\n\u001b[0;32m    389\u001b[0m         \u001b[1;32mif\u001b[0m \u001b[0mcol_deriv\u001b[0m\u001b[1;33m:\u001b[0m\u001b[1;33m\u001b[0m\u001b[0m\n",
      "\u001b[1;31merror\u001b[0m: Result from function call is not a proper array of floats."
     ]
    }
   ],
   "source": [
    "y_data = exp_ra\n",
    "x_data = concentrations[0:19]\n",
    "import scipy.optimize\n",
    "\n",
    "popt, pcov = scipy.optimize.curve_fit(rate_U, x_data, y_data)\n",
    "print(popt)\n",
    "print(pcov)\n",
    "\n",
    "optimal_parameters = popt\n",
    "parameter_errors = np.sqrt(np.diag(pcov))\n",
    "\n",
    "def report(optimal_parameters, covariance):\n",
    "    \"Make this a function so we can reuse it in cells below\"\n",
    "    parameter_errors = np.sqrt(np.diag(covariance))\n",
    "    for i in range(len(optimal_parameters)):\n",
    "        print(\"Parameter {}: {} +/- {} (1 st. dev.)\".format(i,\n",
    "                                                            optimal_parameters[i],\n",
    "                                                            parameter_errors[i]))\n",
    "report(optimal_parameters, covariance)"
   ]
  },
  {
   "cell_type": "code",
   "execution_count": null,
   "metadata": {
    "collapsed": true
   },
   "outputs": [],
   "source": []
  }
 ],
 "metadata": {
  "kernelspec": {
   "display_name": "Python [Anaconda]",
   "language": "python",
   "name": "Python [Anaconda]"
  },
  "language_info": {
   "codemirror_mode": {
    "name": "ipython",
    "version": 2
   },
   "file_extension": ".py",
   "mimetype": "text/x-python",
   "name": "python",
   "nbconvert_exporter": "python",
   "pygments_lexer": "ipython2",
   "version": "2.7.14"
  }
 },
 "nbformat": 4,
 "nbformat_minor": 2
}
