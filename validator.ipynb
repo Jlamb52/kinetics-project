{
 "cells": [
  {
   "cell_type": "markdown",
   "metadata": {},
   "source": [
    "# Kinetics Project Validation Tool\n",
    "## This notebook can be used to validate a model against experimental data\n",
    "The following is the isothermal reaction under investigation:\n",
    "$\\require{mhchem}$\n",
    "$$\\ce{A ->[C] D + U}$$\n",
    "\n",
    "where A is the starting reagent, C is the catalyst, D is the desired product, and U is the undesired product.\n",
    "We can control the starting concentration of A, the concentration of C, and the reaction temperature."
   ]
  },
  {
   "cell_type": "code",
   "execution_count": 8,
   "metadata": {
    "collapsed": true
   },
   "outputs": [],
   "source": [
    "import numpy as np\n",
    "import matplotlib.pyplot as plt\n",
    "import pandas as pd\n",
    "from scipy.integrate import odeint\n",
    "%matplotlib inline"
   ]
  },
  {
   "cell_type": "markdown",
   "metadata": {},
   "source": [
    "## Use the following cell to import tab-separated experiment data"
   ]
  },
  {
   "cell_type": "code",
   "execution_count": 25,
   "metadata": {
    "collapsed": false
   },
   "outputs": [],
   "source": [
    "filename = \"data/exp88.txt\"\n",
    "exp = pd.read_csv(filename, sep=\"\\t|[ ]{1,}\", engine='python', skiprows=2, names=['Time', 'A', 'D', 'U'])\n",
    "init = pd.read_csv(filename, sep=\"\\t|[ ]{1,}\", engine='python', skiprows=1, names=['A', 'D', 'U', 'C', 'T'], nrows=1, usecols=range(2, 7))\n",
    "t_final = exp.Time.values[-1]\n",
    "t_prefinal = exp.Time.values[-2]"
   ]
  },
  {
   "cell_type": "markdown",
   "metadata": {},
   "source": [
    "## We propose the following mechanism\n",
    "$\\require{mhchem}$\n",
    "$$\\ce{\\alpha_1 A + \\gamma C->[k_1] \\beta B + \\gamma C}$$\n",
    "\n",
    "$$\\ce{\\alpha_2 A ->[k_2] \\epsilon_1 E}$$\n",
    "\n",
    "$$\\ce{\\epsilon_2 E <=>[{k_3}][{k_{-3}}] \\upsilon U}$$\n",
    "\n",
    "$$\\ce{\\beta B <=>[{k_4}][{k_{-4}}] \\delta D}$$\n",
    "\n",
    "\n",
    "A is the starting reagent, C is the catalyst, D is the desired product, and U is the undesired product.\n",
    "\n",
    "The following rate laws will be tested.\n",
    "\n",
    "$$-r_A = k_1 C_A^{\\alpha_1} C_C^{\\gamma} + k_2 C_A^{\\alpha_2} + k_4 C_A^{\\alpha_3}$$\n",
    "\n",
    "$$r_U = k_2 C_A^{\\alpha_2} + k_4 C_A^{\\alpha_3}$$\n",
    "\n",
    "$$r_B = k_1 C_A^{\\alpha_1} C_C^{\\gamma} + k_{-3} C_D^{\\delta} - k_3 C_B^{\\beta}$$\n",
    "\n",
    "$$r_D = k_3 C_B^\\beta - k_{-3} C_D^\\delta$$\n",
    "\n",
    "Applying the pseudo steady-state hypothesis on the intermediate species B and adding the last two equations, we obtain the following relation.\n",
    "\n",
    "$$r_D = k_1 C_A^{\\alpha_1} C_C^{\\gamma}.$$\n",
    "\n",
    "Therefore,\n",
    "\n",
    "$$-r_A = r_D + r_U$$\n",
    "\n",
    "## Use the cell below to enter a rate law. Define all necessary constants"
   ]
  },
  {
   "cell_type": "code",
   "execution_count": 26,
   "metadata": {
    "collapsed": true
   },
   "outputs": [],
   "source": [
    "def concentrations(cA0, cC0, T, time, params):\n",
    "    \"\"\"\"\n",
    "    This function calculates the concentrations of the reacting species using a proposed rate law\n",
    "    cA (mol/L) is the initial concentration of reactant A\n",
    "    cC (mol/L) is the initial catalyst concentration\n",
    "    T (K) is the temperature\n",
    "    time (s) is the elapsed reaction time\n",
    "    Return values:\n",
    "    time (s) array of times at which concentrations were calculated\n",
    "    cA (mol/L) array of concentrations of A during the time interval\n",
    "    cD (mol/L) array of concentrations of the desired product D during the time interval\n",
    "    cU (mol/L) array of concentrations of the undesired product U during the time interval\n",
    "    \"\"\"\n",
    "    \n",
    "    try:\n",
    "        alpha, beta1, beta2, beta3, gamma, k1, k_1, k2, k3 = params\n",
    "    except:\n",
    "        print(\"Params should contain at least 9 parameters!\")\n",
    "        return -1, -1, -1, -1,\n",
    "    else:\n",
    "        \n",
    "        def dadt(cA, cB):\n",
    "            return k_1 * cB**beta1 - k1 * cA**alpha\n",
    "            \n",
    "        def dudt(cB):\n",
    "            return k3 * cB**beta3\n",
    "\n",
    "        def dddt(cB, cC):\n",
    "            return k2 * cB**beta2 * cC**gamma\n",
    "                \n",
    "        def rates(parms, time):\n",
    "            \"\"\"\n",
    "            Returns the RHS of the system of ODEs\n",
    "            \"\"\"\n",
    "            C_A, C_B, C_D, C_U = parms\n",
    "            rateD = dddt(C_B, cC0)\n",
    "            rateU = dudt(C_B)\n",
    "            rateA = dadt(C_A, C_B)\n",
    "            rateB = -1 * (rateA + rateD + rateU)\n",
    "            return (rateA, rateB, rateD, rateU)\n",
    "        \n",
    "        times = np.linspace(0, time, 100)\n",
    "        \n",
    "        result = odeint(rates, (cA0, 0., 0., 0.), times)\n",
    "        \n",
    "        cA = result[:,0]\n",
    "        cB = result[:,1]\n",
    "        cD = result[:,2]\n",
    "        cU = result[:,3]\n",
    "        \n",
    "    return times, cA, cD, cU, cB"
   ]
  },
  {
   "cell_type": "markdown",
   "metadata": {},
   "source": [
    "## Integrate\n",
    "Use the cell below to carry out the integration"
   ]
  },
  {
   "cell_type": "code",
   "execution_count": 56,
   "metadata": {
    "collapsed": false
   },
   "outputs": [],
   "source": [
    "alpha = 2. # 3\n",
    "beta1 = 2. # 2\n",
    "beta2 = 1. # 2\n",
    "beta3 = 2. # 2\n",
    "gamma = 1. # 1\n",
    "k1 = 4. # 2.2\n",
    "k_1 = 1.5 # 1.6\n",
    "k2 = 1. # 1\n",
    "k3 = .043 # 0.38\n",
    "times, A, D, U, B = concentrations(init.A, init.C, init.T, t_prefinal,\n",
    "                                (alpha, beta1, beta2, beta3, gamma, k1, k_1, k2, k3))"
   ]
  },
  {
   "cell_type": "markdown",
   "metadata": {},
   "source": [
    "## Plot\n",
    "Plot the results of the calculation."
   ]
  },
  {
   "cell_type": "code",
   "execution_count": 57,
   "metadata": {
    "collapsed": false
   },
   "outputs": [
    {
     "data": {
      "text/plain": [
       "[<matplotlib.lines.Line2D at 0xf136c18>,\n",
       " <matplotlib.lines.Line2D at 0xf136cc0>,\n",
       " <matplotlib.lines.Line2D at 0xf1500f0>,\n",
       " <matplotlib.lines.Line2D at 0xf150470>]"
      ]
     },
     "execution_count": 57,
     "metadata": {},
     "output_type": "execute_result"
    },
    {
     "data": {
      "image/png": "[encoded data removed]",
      "text/plain": [
       "<matplotlib.figure.Figure at 0xd4bd400>"
      ]
     },
     "metadata": {},
     "output_type": "display_data"
    }
   ],
   "source": [
    "plt.plot(times, A, 'b.',\n",
    "       times, D, 'g.',\n",
    "       times, U, 'r.',\n",
    "       times, B, 'c.')"
   ]
  },
  {
   "cell_type": "markdown",
   "metadata": {},
   "source": [
    "## Compare\n",
    "Compare to the experimental results below."
   ]
  },
  {
   "cell_type": "code",
   "execution_count": 58,
   "metadata": {
    "collapsed": false
   },
   "outputs": [
    {
     "data": {
      "text/plain": [
       "[<matplotlib.lines.Line2D at 0xf33bba8>,\n",
       " <matplotlib.lines.Line2D at 0xf33bc50>,\n",
       " <matplotlib.lines.Line2D at 0xf356080>]"
      ]
     },
     "execution_count": 58,
     "metadata": {},
     "output_type": "execute_result"
    },
    {
     "data": {
      "image/png": "[encoded data removed]",
      "text/plain": [
       "<matplotlib.figure.Figure at 0xf1784a8>"
      ]
     },
     "metadata": {},
     "output_type": "display_data"
    }
   ],
   "source": [
    "plt.plot(exp.Time.values[:-1], exp.A.values[:-1], 'b.',\n",
    "       exp.Time.values[:-1], exp.D.values[:-1], 'g.',\n",
    "       exp.Time.values[:-1], exp.U.values[:-1], 'r.')"
   ]
  },
  {
   "cell_type": "code",
   "execution_count": 21,
   "metadata": {
    "collapsed": true
   },
   "outputs": [],
   "source": []
  },
  {
   "cell_type": "code",
   "execution_count": 59,
   "metadata": {
    "collapsed": false
   },
   "outputs": [
    {
     "data": {
      "text/plain": [
       "[<matplotlib.lines.Line2D at 0xf5d0908>,\n",
       " <matplotlib.lines.Line2D at 0xf5d09b0>,\n",
       " <matplotlib.lines.Line2D at 0xf5d0da0>,\n",
       " <matplotlib.lines.Line2D at 0xf5ea160>,\n",
       " <matplotlib.lines.Line2D at 0xf5ea4e0>,\n",
       " <matplotlib.lines.Line2D at 0xf5ea860>,\n",
       " <matplotlib.lines.Line2D at 0xf5eabe0>]"
      ]
     },
     "execution_count": 59,
     "metadata": {},
     "output_type": "execute_result"
    },
    {
     "data": {
      "image/png": "[encoded data removed]",
      "text/plain": [
       "<matplotlib.figure.Figure at 0xebb62b0>"
      ]
     },
     "metadata": {},
     "output_type": "display_data"
    }
   ],
   "source": [
    "# Plot experimental and calculated results on the same chart\n",
    "plt.plot(times, A, 'b.',\n",
    "       times, D, 'g.',\n",
    "       times, U, 'r.',\n",
    "         times, B, 'k.',\n",
    "       exp.Time.values[:-1], exp.A.values[:-1], 'c.',\n",
    "       exp.Time.values[:-1], exp.D.values[:-1], 'y.',\n",
    "       exp.Time.values[:-1], exp.U.values[:-1], 'm.')"
   ]
  },
  {
   "cell_type": "markdown",
   "metadata": {
    "collapsed": true
   },
   "source": [
    "## Parameters of interest"
   ]
  },
  {
   "cell_type": "code",
   "execution_count": 19,
   "metadata": {
    "collapsed": false
   },
   "outputs": [
    {
     "data": {
      "text/plain": [
       "[<matplotlib.lines.Line2D at 0xe0e82e8>,\n",
       " <matplotlib.lines.Line2D at 0xe0e8390>]"
      ]
     },
     "execution_count": 19,
     "metadata": {},
     "output_type": "execute_result"
    },
    {
     "data": {
      "image/png": "[encoded data removed]",
      "text/plain": [
       "<matplotlib.figure.Figure at 0xd3ee048>"
      ]
     },
     "metadata": {},
     "output_type": "display_data"
    }
   ],
   "source": [
    "# 3-point differentiation of experimental [A] and [U]\n",
    "exp_a = exp.A.values[:-1] # ignore the last long-time value\n",
    "exp_u = exp.U.values[:-1] # ignore the last long-time value\n",
    "exp_t = exp.Time.values[:-1] # ignore the last long-time value\n",
    "delta_t = exp_t[1] - exp_t[0]\n",
    "exp_ra = (np.diff(exp_a[:-1]) + np.diff(exp_a[1:])) / (2 * delta_t)\n",
    "exp_ru = (np.diff(exp_u[:-1]) + np.diff(exp_u[1:])) / (2 * delta_t)\n",
    "\n",
    "plt.plot(exp_t[1:-1], exp_ru, 'm.', exp_t[1:-1], exp_ra, 'c.')"
   ]
  },
  {
   "cell_type": "code",
   "execution_count": 20,
   "metadata": {
    "collapsed": false
   },
   "outputs": [
    {
     "data": {
      "text/plain": [
       "[<matplotlib.lines.Line2D at 0xe2e3278>]"
      ]
     },
     "execution_count": 20,
     "metadata": {},
     "output_type": "execute_result"
    },
    {
     "data": {
      "image/png": "[encoded data removed]",
      "text/plain": [
       "<matplotlib.figure.Figure at 0xde12668>"
      ]
     },
     "metadata": {},
     "output_type": "display_data"
    }
   ],
   "source": [
    "plt.plot(exp_u[1:-1], exp_ru, 'm.')"
   ]
  },
  {
   "cell_type": "code",
   "execution_count": 21,
   "metadata": {
    "collapsed": false
   },
   "outputs": [
    {
     "data": {
      "text/plain": [
       "[<matplotlib.lines.Line2D at 0xcf29e10>]"
      ]
     },
     "execution_count": 21,
     "metadata": {},
     "output_type": "execute_result"
    },
    {
     "data": {
      "image/png": "[encoded data removed]",
      "text/plain": [
       "<matplotlib.figure.Figure at 0xe4015c0>"
      ]
     },
     "metadata": {},
     "output_type": "display_data"
    }
   ],
   "source": [
    "plt.plot(exp_a[1:-1], exp_ra, 'b.')"
   ]
  },
  {
   "cell_type": "code",
   "execution_count": 22,
   "metadata": {
    "collapsed": true
   },
   "outputs": [],
   "source": [
    "# use a rough parameter optimization to find k2 at the experiment temperature\n",
    "# at about 125 seconds U should equal A\n",
    "#from scipy.optimize import fsolve\n",
    "def objective(k3_trial):\n",
    "    t, a, d, u, b = concentrations(init.A, init.C, init.T, t_prefinal, (alpha, beta1, beta2, beta3, gamma, k1, k_1, k2, k3_trial))\n",
    "    diff = a[15] - u[15]\n",
    "    return diff"
   ]
  },
  {
   "cell_type": "code",
   "execution_count": 23,
   "metadata": {
    "collapsed": true
   },
   "outputs": [],
   "source": [
    "import scipy.optimize as optimize\n",
    "import scipy.cu"
   ]
  },
  {
   "cell_type": "code",
   "execution_count": 24,
   "metadata": {
    "collapsed": false
   },
   "outputs": [
    {
     "name": "stdout",
     "output_type": "stream",
     "text": [
      "[ 638.50023741]\n"
     ]
    }
   ],
   "source": [
    "initial_guess = [2.364]\n",
    "result = optimize.minimize(objective, initial_guess)\n",
    "if result.success:\n",
    "    fitted_params = result.x\n",
    "    print(fitted_params)\n",
    "else:\n",
    "    raise ValueError(result.message)"
   ]
  },
  {
   "cell_type": "code",
   "execution_count": 1,
   "metadata": {
    "collapsed": false
   },
   "outputs": [
    {
     "ename": "NameError",
     "evalue": "name 'objective' is not defined",
     "output_type": "error",
     "traceback": [
      "\u001b[1;31m---------------------------------------------------------------------------\u001b[0m",
      "\u001b[1;31mNameError\u001b[0m                                 Traceback (most recent call last)",
      "\u001b[1;32m<ipython-input-1-1fdafcc36e8a>\u001b[0m in \u001b[0;36m<module>\u001b[1;34m()\u001b[0m\n\u001b[0;32m      2\u001b[0m \u001b[0mmax_loops\u001b[0m \u001b[1;33m=\u001b[0m \u001b[1;36m1000000\u001b[0m\u001b[1;33m\u001b[0m\u001b[0m\n\u001b[0;32m      3\u001b[0m \u001b[1;32mwhile\u001b[0m \u001b[0mmax_loops\u001b[0m\u001b[1;33m:\u001b[0m\u001b[1;33m\u001b[0m\u001b[0m\n\u001b[1;32m----> 4\u001b[1;33m     \u001b[1;32mif\u001b[0m \u001b[0mabs\u001b[0m\u001b[1;33m(\u001b[0m\u001b[0mobjective\u001b[0m\u001b[1;33m(\u001b[0m\u001b[0mguess\u001b[0m\u001b[1;33m)\u001b[0m\u001b[1;33m)\u001b[0m \u001b[1;33m<\u001b[0m \u001b[1;36m0.001\u001b[0m\u001b[1;33m:\u001b[0m\u001b[1;33m\u001b[0m\u001b[0m\n\u001b[0m\u001b[0;32m      5\u001b[0m         \u001b[1;32mprint\u001b[0m\u001b[1;33m(\u001b[0m\u001b[1;34m\"Found a value!\"\u001b[0m\u001b[1;33m)\u001b[0m\u001b[1;33m\u001b[0m\u001b[0m\n\u001b[0;32m      6\u001b[0m         \u001b[1;32mprint\u001b[0m\u001b[1;33m(\u001b[0m\u001b[0mguess\u001b[0m\u001b[1;33m)\u001b[0m\u001b[1;33m\u001b[0m\u001b[0m\n",
      "\u001b[1;31mNameError\u001b[0m: name 'objective' is not defined"
     ]
    }
   ],
   "source": [
    "guess = 2.364\n",
    "max_loops = 1000000\n",
    "while max_loops:\n",
    "    if abs(objective(guess)) < 0.001:\n",
    "        print(\"Found a value!\")\n",
    "        print(guess)\n",
    "        break\n",
    "    guess-=0.01\n",
    "    max_loops-=1"
   ]
  },
  {
   "cell_type": "code",
   "execution_count": 70,
   "metadata": {
    "collapsed": false
   },
   "outputs": [],
   "source": [
    "import random as rd\n",
    "np.random.seed(5)\n",
    "rd.seed(5)"
   ]
  },
  {
   "cell_type": "code",
   "execution_count": 66,
   "metadata": {
    "collapsed": false
   },
   "outputs": [
    {
     "ename": "TypeError",
     "evalue": "'numpy.bool_' object is not iterable",
     "output_type": "error",
     "traceback": [
      "\u001b[1;31m---------------------------------------------------------------------------\u001b[0m",
      "\u001b[1;31mTypeError\u001b[0m                                 Traceback (most recent call last)",
      "\u001b[1;32m<ipython-input-66-5c9e688546de>\u001b[0m in \u001b[0;36m<module>\u001b[1;34m()\u001b[0m\n\u001b[0;32m      1\u001b[0m \u001b[0mx_data\u001b[0m \u001b[1;33m=\u001b[0m \u001b[0mexp\u001b[0m\u001b[1;33m.\u001b[0m\u001b[0mTime\u001b[0m\u001b[1;33m.\u001b[0m\u001b[0mvalues\u001b[0m\u001b[1;33m\u001b[0m\u001b[0m\n\u001b[1;32m----> 2\u001b[1;33m \u001b[0my_data\u001b[0m \u001b[1;33m=\u001b[0m \u001b[0mnp\u001b[0m\u001b[1;33m.\u001b[0m\u001b[0mstack\u001b[0m\u001b[1;33m(\u001b[0m\u001b[0mCa\u001b[0m\u001b[1;33m.\u001b[0m\u001b[0mall\u001b[0m\u001b[1;33m(\u001b[0m\u001b[1;33m)\u001b[0m\u001b[1;33m,\u001b[0m \u001b[0mCu\u001b[0m\u001b[1;33m.\u001b[0m\u001b[0mall\u001b[0m\u001b[1;33m(\u001b[0m\u001b[1;33m)\u001b[0m\u001b[1;33m)\u001b[0m\u001b[1;33m\u001b[0m\u001b[0m\n\u001b[0m",
      "\u001b[1;32mC:\\Anaconda\\lib\\site-packages\\numpy\\core\\shape_base.pyc\u001b[0m in \u001b[0;36mstack\u001b[1;34m(arrays, axis)\u001b[0m\n\u001b[0;32m    331\u001b[0m \u001b[1;33m\u001b[0m\u001b[0m\n\u001b[0;32m    332\u001b[0m     \"\"\"\n\u001b[1;32m--> 333\u001b[1;33m     \u001b[0marrays\u001b[0m \u001b[1;33m=\u001b[0m \u001b[1;33m[\u001b[0m\u001b[0masanyarray\u001b[0m\u001b[1;33m(\u001b[0m\u001b[0marr\u001b[0m\u001b[1;33m)\u001b[0m \u001b[1;32mfor\u001b[0m \u001b[0marr\u001b[0m \u001b[1;32min\u001b[0m \u001b[0marrays\u001b[0m\u001b[1;33m]\u001b[0m\u001b[1;33m\u001b[0m\u001b[0m\n\u001b[0m\u001b[0;32m    334\u001b[0m     \u001b[1;32mif\u001b[0m \u001b[1;32mnot\u001b[0m \u001b[0marrays\u001b[0m\u001b[1;33m:\u001b[0m\u001b[1;33m\u001b[0m\u001b[0m\n\u001b[0;32m    335\u001b[0m         \u001b[1;32mraise\u001b[0m \u001b[0mValueError\u001b[0m\u001b[1;33m(\u001b[0m\u001b[1;34m'need at least one array to stack'\u001b[0m\u001b[1;33m)\u001b[0m\u001b[1;33m\u001b[0m\u001b[0m\n",
      "\u001b[1;31mTypeError\u001b[0m: 'numpy.bool_' object is not iterable"
     ]
    }
   ],
   "source": []
  },
  {
   "cell_type": "code",
   "execution_count": null,
   "metadata": {
    "collapsed": true
   },
   "outputs": [],
   "source": []
  },
  {
   "cell_type": "code",
   "execution_count": null,
   "metadata": {
    "collapsed": true
   },
   "outputs": [],
   "source": []
  }
 ],
 "metadata": {
  "kernelspec": {
   "display_name": "Python [Anaconda]",
   "language": "python",
   "name": "Python [Anaconda]"
  },
  "language_info": {
   "codemirror_mode": {
    "name": "ipython",
    "version": 2
   },
   "file_extension": ".py",
   "mimetype": "text/x-python",
   "name": "python",
   "nbconvert_exporter": "python",
   "pygments_lexer": "ipython2",
   "version": "2.7.14"
  }
 },
 "nbformat": 4,
 "nbformat_minor": 2
}
