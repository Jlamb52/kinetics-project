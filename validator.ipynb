{
 "cells": [
  {
   "cell_type": "markdown",
   "metadata": {},
   "source": [
    "# Kinetics Project Validation Tool\n",
    "## This notebook can be used to validate a model against experimental data\n",
    "The following is the isothermal reaction under investigation:\n",
    "$\\require{mhchem}$\n",
    "$$\\ce{A ->[C] D + U}$$\n",
    "\n",
    "where A is the starting reagent, C is the catalyst, D is the desired product, and U is the undesired product.\n",
    "We can control the starting concentration of A, the concentration of C, and the reaction temperature."
   ]
  },
  {
   "cell_type": "code",
   "execution_count": 1,
   "metadata": {
    "collapsed": true
   },
   "outputs": [],
   "source": [
    "import numpy as np\n",
    "import matplotlib.pyplot as pl\n",
    "import pandas as pd\n",
    "from scipy.integrate import odeint\n",
    "%matplotlib inline"
   ]
  },
  {
   "cell_type": "markdown",
   "metadata": {},
   "source": [
    "## Use the following cell to import tab-separated experiment data"
   ]
  },
  {
   "cell_type": "code",
   "execution_count": 2,
   "metadata": {},
   "outputs": [],
   "source": [
    "filename = \"data/exp1426.tsv\"\n",
    "exp = pd.read_csv(filename, sep=\"\\t|[ ]{1,}\", engine='python', skiprows=2, names=['Time', 'A', 'D', 'U'])\n",
    "init = pd.read_csv(filename, sep=\"\\t|[ ]{1,}\", engine='python', skiprows=1, names=['A', 'D', 'U', 'C', 'T'], nrows=1, usecols=range(2, 7))\n",
    "t_final = exp.Time.values[-1]\n",
    "t_prefinal = exp.Time.values[-2]"
   ]
  },
  {
   "cell_type": "markdown",
   "metadata": {},
   "source": [
    "## We propose the following mechanism\n",
    "$\\require{mhchem}$\n",
    "$$\\ce{\\alpha_1 A + \\gamma C->[k_1] \\beta B + \\gamma C}$$\n",
    "\n",
    "$$\\ce{\\alpha_2 A ->[k_2] \\upsilon U}$$\n",
    "\n",
    "$$\\ce{\\beta B <=>[{k_3}][{k_{-3}}] \\delta D}$$\n",
    "\n",
    "\n",
    "A is the starting reagent, C is the catalyst, D is the desired product, and U is the undesired product.\n",
    "\n",
    "The following rate laws will be tested.\n",
    "\n",
    "$$-r_A = k_1 C_A^{\\alpha_1} C_C^{\\gamma} + k_2 C_A^{\\alpha_2}$$\n",
    "\n",
    "$$r_U = k_2 C_A^{\\alpha_2}$$\n",
    "\n",
    "$$r_B = k_1 C_A^{\\alpha_1} C_C^{\\gamma} + k_{-3} C_D^{\\delta} - k_3 C_B^{\\beta}$$\n",
    "\n",
    "$$r_D = k_3 C_B^\\beta - k_{-3} C_D^\\delta$$\n",
    "\n",
    "Applying the pseudo steady-state hypothesis on the intermediate species B and adding the last two equations, we obtain the following relation.\n",
    "\n",
    "$$r_D = k_1 C_A^{\\alpha_1} C_C^{\\gamma}.$$\n",
    "\n",
    "Therefore,\n",
    "\n",
    "$$-r_A = r_D + r_U$$\n",
    "\n",
    "## Use the cell below to enter a rate law. Define all necessary constants"
   ]
  },
  {
   "cell_type": "code",
   "execution_count": 18,
   "metadata": {
    "collapsed": true
   },
   "outputs": [],
   "source": [
    "def concentrations(cA0, cC0, T, time, params):\n",
    "    \"\"\"\"\n",
    "    This function calculates the concentrations of the reacting species using a proposed rate law\n",
    "    cA (mol/L) is the initial concentration of reactant A\n",
    "    cC (mol/L) is the initial catalyst concentration\n",
    "    T (K) is the temperature\n",
    "    time (s) is the elapsed reaction time\n",
    "    Return values:\n",
    "    time (s) array of times at which concentrations were calculated\n",
    "    cA (mol/L) array of concentrations of A during the time interval\n",
    "    cD (mol/L) array of concentrations of the desired product D during the time interval\n",
    "    cU (mol/L) array of concentrations of the undesired product U during the time interval\n",
    "    \"\"\"\n",
    "    \n",
    "    try:\n",
    "        alpha1, alpha2, gamma, k1, k2 = params\n",
    "    except:\n",
    "        print(\"Params should contain at least 5 parameters!\")\n",
    "        return -1, -1, -1, -1,\n",
    "    else:\n",
    "        def dudt(cA):\n",
    "            return k2 * cA**alpha2\n",
    "\n",
    "        def dddt(cA):\n",
    "            return k1 * cA**alpha1 * cC0**gamma\n",
    "        \n",
    "        def rates(parms, time):\n",
    "            \"\"\"\n",
    "            Returns the RHS of the system of ODEs\n",
    "            \"\"\"\n",
    "            C_A, C_D, C_U = parms\n",
    "            rateD = dddt(C_A)\n",
    "            rateU = dudt(C_A)\n",
    "            rateA = -1. * rateD - rateU\n",
    "            assert rateA.shape[0] == 1\n",
    "            return (rateA, rateD, rateU)\n",
    "        \n",
    "        times = np.linspace(0, time, 100)\n",
    "        \n",
    "        result = odeint(rates, (cA0, 0., 0.), times)\n",
    "        \n",
    "        cA = result[:,0]\n",
    "        cD = result[:,1]\n",
    "        cU = result[:,2]\n",
    "        \n",
    "    return times, cA, cD, cU"
   ]
  },
  {
   "cell_type": "markdown",
   "metadata": {},
   "source": [
    "## Integrate\n",
    "Use the cell below to carry out the integration"
   ]
  },
  {
   "cell_type": "code",
   "execution_count": 55,
   "metadata": {},
   "outputs": [],
   "source": [
    "alpha1 = 2.\n",
    "alpha2 = 2.\n",
    "gamma = 1.\n",
    "k1 = 1.\n",
    "k2 = .04\n",
    "times, A, D, U = concentrations(init.A, init.C, init.T, t_prefinal,\n",
    "                                (alpha1, alpha2, gamma, k1, k2))"
   ]
  },
  {
   "cell_type": "markdown",
   "metadata": {},
   "source": [
    "## Plot\n",
    "Plot the results of the calculation."
   ]
  },
  {
   "cell_type": "code",
   "execution_count": 56,
   "metadata": {},
   "outputs": [
    {
     "data": {
      "text/plain": [
       "[<matplotlib.lines.Line2D at 0x7fef1ddee940>,\n",
       " <matplotlib.lines.Line2D at 0x7fef1ddeeac8>,\n",
       " <matplotlib.lines.Line2D at 0x7fef1ddf7470>]"
      ]
     },
     "execution_count": 56,
     "metadata": {},
     "output_type": "execute_result"
    },
    {
     "data": {
      "image/png": "[encoded data removed]",
      "text/plain": [
       "<matplotlib.figure.Figure at 0x7fef1de5dfd0>"
      ]
     },
     "metadata": {},
     "output_type": "display_data"
    }
   ],
   "source": [
    "pl.plot(times, A, 'b.',\n",
    "       times, D, 'g.',\n",
    "       times, U, 'r.')"
   ]
  },
  {
   "cell_type": "markdown",
   "metadata": {},
   "source": [
    "## Compare\n",
    "Compare to the experimental results below."
   ]
  },
  {
   "cell_type": "code",
   "execution_count": 34,
   "metadata": {},
   "outputs": [
    {
     "data": {
      "text/plain": [
       "[<matplotlib.lines.Line2D at 0x7fef1e270f60>,\n",
       " <matplotlib.lines.Line2D at 0x7fef1e270ba8>,\n",
       " <matplotlib.lines.Line2D at 0x7fef1e262cf8>]"
      ]
     },
     "execution_count": 34,
     "metadata": {},
     "output_type": "execute_result"
    },
    {
     "data": {
      "image/png": "[encoded data removed]",
      "text/plain": [
       "<matplotlib.figure.Figure at 0x7fef1e05bd30>"
      ]
     },
     "metadata": {},
     "output_type": "display_data"
    }
   ],
   "source": [
    "pl.plot(exp.Time.values[:-1], exp.A.values[:-1], 'b.',\n",
    "       exp.Time.values[:-1], exp.D.values[:-1], 'g.',\n",
    "       exp.Time.values[:-1], exp.U.values[:-1], 'r.')"
   ]
  },
  {
   "cell_type": "markdown",
   "metadata": {
    "collapsed": true
   },
   "source": [
    "## Parameters of interest\n",
    "\n",
    "$\\alpha_1 = 2$, $\\alpha_2 = 2$, $\\gamma = 1$, $k_1 = 1$, $k_2 = 0.01$"
   ]
  },
  {
   "cell_type": "code",
   "execution_count": 35,
   "metadata": {},
   "outputs": [],
   "source": [
    "# use a rough parameter optimization to find k2 at the experiment temperature\n",
    "# at about 125 seconds U should equal A\n",
    "#from scipy.optimize import fsolve\n",
    "def objective(k_2):\n",
    "    t, a, d, u = concentrations(init.A, init.C, init.T, t_prefinal, (alpha1, alpha2, gamma, k1, k_2))\n",
    "    diff = a[15] - u[15]\n",
    "    return diff"
   ]
  },
  {
   "cell_type": "code",
   "execution_count": 43,
   "metadata": {},
   "outputs": [
    {
     "name": "stdout",
     "output_type": "stream",
     "text": [
      "Found a value!\n"
     ]
    }
   ],
   "source": [
    "guess = 0.8\n",
    "max_loops = 1000000\n",
    "while max_loops:\n",
    "    if abs(objective(guess)) < 0.001:\n",
    "        print(\"Found a value!\")\n",
    "        break\n",
    "    guess-=0.01\n",
    "    max_loops-=1"
   ]
  },
  {
   "cell_type": "code",
   "execution_count": 44,
   "metadata": {},
   "outputs": [
    {
     "data": {
      "text/plain": [
       "0.039999999999999473"
      ]
     },
     "execution_count": 44,
     "metadata": {},
     "output_type": "execute_result"
    }
   ],
   "source": [
    "guess"
   ]
  },
  {
   "cell_type": "code",
   "execution_count": null,
   "metadata": {
    "collapsed": true
   },
   "outputs": [],
   "source": []
  }
 ],
 "metadata": {
  "kernelspec": {
   "display_name": "Python 3",
   "language": "python",
   "name": "python3"
  },
  "language_info": {
   "codemirror_mode": {
    "name": "ipython",
    "version": 3
   },
   "file_extension": ".py",
   "mimetype": "text/x-python",
   "name": "python",
   "nbconvert_exporter": "python",
   "pygments_lexer": "ipython3",
   "version": "3.6.2"
  }
 },
 "nbformat": 4,
 "nbformat_minor": 2
}
