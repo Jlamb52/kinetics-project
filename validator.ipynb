{
 "cells": [
  {
   "cell_type": "markdown",
   "metadata": {},
   "source": [
    "# Kinetics Project Validation Tool\n",
    "## This notebook can be used to validate a model against experimental data\n",
    "The following is the isothermal reaction under investigation:\n",
    "$\\require{mhchem}$\n",
    "$$\\ce{A ->[C] D + U}$$\n",
    "\n",
    "where A is the starting reagent, C is the catalyst, D is the desired product, and U is the undesired product.\n",
    "We can control the starting concentration of A, the concentration of C, and the reaction temperature."
   ]
  },
  {
   "cell_type": "code",
   "execution_count": 1,
   "metadata": {},
   "outputs": [],
   "source": [
    "import numpy as np\n",
    "import matplotlib.pyplot as pl\n",
    "import pandas as pd\n",
    "%matplotlib inline"
   ]
  },
  {
   "cell_type": "markdown",
   "metadata": {},
   "source": [
    "## Use the following cell to import tab-separated experiment data"
   ]
  },
  {
   "cell_type": "code",
   "execution_count": 2,
   "metadata": {},
   "outputs": [],
   "source": [
    "filename = \"data/exp1420.tsv\"\n",
    "exp = pd.read_csv(filename, sep=\"\\t|[ ]{1,}\", engine='python', skiprows=2, names=['Time', 'A', 'D', 'U'])\n",
    "init = pd.read_csv(filename, sep=\"\\t|[ ]{1,}\", engine='python', skiprows=1, names=['A', 'D', 'U', 'C', 'T'], nrows=1, usecols=range(2, 7))"
   ]
  },
  {
   "cell_type": "markdown",
   "metadata": {},
   "source": [
    "## We propose the following mechanism\n",
    "$\\require{mhchem}$\n",
    "$$\\ce{A + C->[k_1] B + C}$$\n",
    "\n",
    "$$\\ce{A ->[k_2] U}$$\n",
    "\n",
    "$$\\ce{B <=>[{k_3}][{k_{-3}}] D}$$\n",
    "\n",
    "\n",
    "A is the starting reagent, C is the catalyst, D is the desired product, and U is the undesired product.\n",
    "\n",
    "## Use the cell below to enter a rate law. Define all necessary constants"
   ]
  },
  {
   "cell_type": "code",
   "execution_count": 4,
   "metadata": {},
   "outputs": [],
   "source": [
    "def rate_law(cA0, cC0, T, time):\n",
    "    \"\"\"\"\n",
    "    This function is the proposed rate law.\n",
    "    cA (mol/L) is the initial concentration of reactant A\n",
    "    cC (mol/L) is the initial catalyst concentration\n",
    "    T (K) is the temperature\n",
    "    time (s) is the elapsed reaction time\n",
    "    Return values:\n",
    "    cA (mol/L) concentration of A at the given reaction time\n",
    "    cD (mol/L) concentration of the desired product D at the given reaction time\n",
    "    cU (mol/L) concentration of the undesired product U at the given reaction time\n",
    "    \"\"\"\n",
    "    # rate \"constants\"\n",
    "    k1 = 1.          # units of k1\n",
    "    k2 = 3.2         # units of k2\n",
    "    k3 = 0.25 * T**2 # units of k3\n",
    "    k_3 = 0.5        # units of k_{-3}\n",
    "        \n",
    "    cA = cA0 * time * k1\n",
    "    cD = cA0 * time * 2. * k2\n",
    "    cU = cA0 * time * 0.5 * k2 / k3\n",
    "    return cA, cD, cU"
   ]
  },
  {
   "cell_type": "code",
   "execution_count": 5,
   "metadata": {},
   "outputs": [
    {
     "data": {
      "text/plain": [
       "[<matplotlib.lines.Line2D at 0x7f8971376a58>,\n",
       " <matplotlib.lines.Line2D at 0x7f8971376be0>,\n",
       " <matplotlib.lines.Line2D at 0x7f89713865c0>]"
      ]
     },
     "execution_count": 5,
     "metadata": {},
     "output_type": "execute_result"
    },
    {
     "data": {
      "image/png": "[encoded data removed]",
      "text/plain": [
       "<matplotlib.figure.Figure at 0x7f8978854828>"
      ]
     },
     "metadata": {},
     "output_type": "display_data"
    }
   ],
   "source": [
    "pl.plot(exp.Time.values[:-1], exp.A.values[:-1], 'b.',\n",
    "       exp.Time.values[:-1], exp.D.values[:-1], 'g.',\n",
    "       exp.Time.values[:-1], exp.U.values[:-1], 'r.')"
   ]
  },
  {
   "cell_type": "code",
   "execution_count": 6,
   "metadata": {},
   "outputs": [
    {
     "data": {
      "text/plain": [
       "[<matplotlib.lines.Line2D at 0x7f8971285198>,\n",
       " <matplotlib.lines.Line2D at 0x7f8971285320>,\n",
       " <matplotlib.lines.Line2D at 0x7f8971285c88>]"
      ]
     },
     "execution_count": 6,
     "metadata": {},
     "output_type": "execute_result"
    },
    {
     "data": {
      "image/png": "[encoded data removed]",
      "text/plain": [
       "<matplotlib.figure.Figure at 0x7f89788542e8>"
      ]
     },
     "metadata": {},
     "output_type": "display_data"
    }
   ],
   "source": [
    "A, D, U = rate_law(5., 0.2, 298, exp.Time.values)\n",
    "pl.plot(exp.Time.values[:-1], A[:-1], 'b.',\n",
    "       exp.Time.values[:-1], D[:-1], 'g.',\n",
    "       exp.Time.values[:-1], U[:-1], 'r.')"
   ]
  },
  {
   "cell_type": "code",
   "execution_count": null,
   "metadata": {
    "collapsed": true
   },
   "outputs": [],
   "source": []
  }
 ],
 "metadata": {
  "kernelspec": {
   "display_name": "Python 3",
   "language": "python",
   "name": "python3"
  },
  "language_info": {
   "codemirror_mode": {
    "name": "ipython",
    "version": 3
   },
   "file_extension": ".py",
   "mimetype": "text/x-python",
   "name": "python",
   "nbconvert_exporter": "python",
   "pygments_lexer": "ipython3",
   "version": "3.6.2"
  }
 },
 "nbformat": 4,
 "nbformat_minor": 2
}
